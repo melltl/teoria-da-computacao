{
  "nbformat": 4,
  "nbformat_minor": 0,
  "metadata": {
    "colab": {
      "provenance": [],
      "toc_visible": true,
      "include_colab_link": true
    },
    "kernelspec": {
      "name": "python3",
      "display_name": "Python 3"
    },
    "language_info": {
      "name": "python"
    }
  },
  "cells": [
    {
      "cell_type": "markdown",
      "metadata": {
        "id": "view-in-github",
        "colab_type": "text"
      },
      "source": [
        "<a href=\"https://colab.research.google.com/github/melltl/teoria-da-computacao/blob/main/teoria_da_computa%C3%A7%C3%A3o.ipynb\" target=\"_parent\"><img src=\"https://colab.research.google.com/assets/colab-badge.svg\" alt=\"Open In Colab\"/></a>"
      ]
    },
    {
      "cell_type": "markdown",
      "source": [
        "#Monolítico:"
      ],
      "metadata": {
        "id": "0Mf8wEVi_B8r"
      }
    },
    {
      "cell_type": "markdown",
      "source": [
        "Este é um programa em C que calcula o fatorial de um número. Aqui está uma descrição passo a passo do que o programa faz:\n",
        "\n",
        "1. Inicializa uma variável `num` com o valor 3, que é o número do qual queremos calcular o fatorial.\n",
        "2. Inicializa uma variável `fatorial` com o valor 1. Esta variável será usada para armazenar o resultado do cálculo do fatorial.\n",
        "3. Inicializa uma variável `i` com o valor de `num`. Esta variável será usada como contador no loop que calcula o fatorial.\n",
        "4. O programa então entra em um loop (indicado pelo rótulo `start:`) que continua até que `i` seja menor que 1.\n",
        "5. Dentro do loop, o programa multiplica o valor atual de `fatorial` por `i` e armazena o resultado de volta em `fatorial`.\n",
        "6. Em seguida, decrementa `i` por 1.\n",
        "7. O programa então volta para o início do loop (indicado pelo `goto start;`).\n",
        "8. Quando `i` é menor que 1, o programa sai do loop (indicado pelo `goto end;`).\n",
        "9. Finalmente, o programa imprime o valor de `fatorial`, que agora contém o fatorial de `num`, e retorna 0, indicando que o programa terminou com sucesso.\n",
        "\n",
        "Portanto, este programa calcula o fatorial de 3 (que é 6) usando um loop e imprime o resultado. Note que este é um programa monolítico porque todo o código está contido em uma única função (neste caso, a função `main`)."
      ],
      "metadata": {
        "id": "DXhLxIFmFow-"
      }
    },
    {
      "cell_type": "markdown",
      "source": [
        "https://www.onlinegdb.com/online_c_compiler"
      ],
      "metadata": {
        "id": "MkOrC5Rv-MAw"
      }
    },
    {
      "cell_type": "markdown",
      "source": [
        "```\n",
        "int main() {\n",
        "    int num = 3;\n",
        "    int fatorial = 1;\n",
        "    int i = num;\n",
        "    start:\n",
        "    if(i < 1) goto end;\n",
        "    fatorial *= i;\n",
        "    i--;\n",
        "    goto start;\n",
        "    end:\n",
        "    printf(\"Fatorial: %d\\n\", fatorial);\n",
        "    return 0;\n",
        "}\n",
        "```"
      ],
      "metadata": {
        "id": "sJP5eAp__8B3"
      }
    },
    {
      "cell_type": "markdown",
      "source": [
        " * A -> Ler(num)\n",
        "\n",
        " * B -> fatorial = 1\n",
        "\n",
        " * C -> i = num\n",
        "\n",
        "* D -> Se (i < 1) então vá_para G senão vá_para E\n",
        "\n",
        "- E -> fatorial *= i\n",
        "\n",
        "- F -> i–; vá_para D\n",
        "  \n",
        "- G -> Escrever(fatorial)\n",
        "\n",
        "\n",
        "R1: Faça A vá_para R2;\n",
        "\n",
        "R2: Faça B vá_para R3;\n",
        "\n",
        "R3: Faça C vá_para R4;\n",
        "\n",
        "R4: Se (i >= 1) então vá_para R5 senão vá_para R7;\n",
        "\n",
        "R5: Faça E vá_para R6;\n",
        "\n",
        "R6: Faça F vá_para R4;\n",
        "\n",
        "R7: Faça G vá_para Rx;\n",
        "\n",
        "N = 3 (três iterações)\n",
        "\n",
        "\n",
        "\n",
        "- (1,e) -> Estado inicial\n",
        "-  (2, A) -> Executa A: Ler(num), num=3\n",
        "-  (3, AB) -> Executa B: fatorial = 1\n",
        "-  (4, ABC) -> Executa C: i = num, i=3\n",
        "-  (5, ABCD) -> Executa D: Se (i < 1) então vá_para G senão vá_para E, i=3, então vai para E\n",
        "-  (6, ABCDE) -> Executa E: fatorial *= i, fatorial=3\n",
        "- (4, ABCDEF) -> Executa F: i–; vá_para D, i=2\n",
        "- (5, ABCDEFD) -> Executa D: Se (i < 1) então vá_para G senão vá_para E, i=2, então vai para E\n",
        "- (6, ABCDEFDE) -> Executa E: fatorial *= i, fatorial=6\n",
        "- (4, ABCDEFDEF) -> Executa F: i–; vá_para D, i=1\n",
        "- (5, ABCDEFDEFD) -> Executa D: Se (i < 1) então vá_para G senão vá_para E, i=1, então vai para E\n",
        "- (6, ABCDEFDEFDE) -> Executa E: fatorial *= i, fatorial=6\n",
        "- (7, ABCDEFDEFDEG) -> Executa G: Escrever(fatorial), escreve 6\n",
        "- (Rx, ABCDEFDEFDEG) -> Como i < 1, vai para Rx e termina a execução"
      ],
      "metadata": {
        "id": "z2MkrIv6qEge"
      }
    },
    {
      "cell_type": "markdown",
      "source": [
        "#Iterativo"
      ],
      "metadata": {
        "id": "1ZAhMiuJ_ElX"
      }
    },
    {
      "cell_type": "markdown",
      "source": [
        "Este programa é considerado iterativo porque usa um loop (neste caso, um loop `while`) para repetir uma série de instruções até que uma determinada condição seja atendida. Aqui está uma descrição mais detalhada de como a iteração funciona neste programa:\n",
        "\n",
        "1. A função `fatorial_iterativo` é definida para aceitar um argumento `n`.\n",
        "2. Dentro da função, há uma verificação de condição: se `n` é menor que 0, a função retorna \"Erro: número negativo\". Isso é para garantir que o número para o qual estamos calculando o fatorial seja um número inteiro não negativo.\n",
        "3. A função então inicializa uma variável `resultado` com o valor 1. Esta variável será usada para armazenar o resultado do cálculo do fatorial.\n",
        "4. A função então entra em um loop `while` que continua até que `n` seja menor ou igual a 1.\n",
        "5. Dentro do loop, a função multiplica o valor atual de `resultado` por `n` e armazena o resultado de volta em `resultado`.\n",
        "6. Em seguida, decrementa `n` por 1.\n",
        "7. Quando `n` é menor ou igual a 1, o loop termina.\n",
        "8. Finalmente, a função retorna o valor de `resultado`, que agora contém o fatorial de `n`.\n",
        "\n",
        "Portanto, a natureza iterativa deste programa vem do fato de que ele usa um loop para calcular o fatorial de um número, em vez de chamar a si mesmo recursivamente."
      ],
      "metadata": {
        "id": "LOg5dLcUGlyu"
      }
    },
    {
      "cell_type": "code",
      "source": [
        "def fatorial_iterativo(n):\n",
        "    if n < 0:\n",
        "        return \"Erro: número negativo\"\n",
        "    resultado = 1\n",
        "    while n > 1:\n",
        "        resultado *= n\n",
        "        n -= 1\n",
        "    return resultado\n"
      ],
      "metadata": {
        "id": "7WTQtLFBXwmh"
      },
      "execution_count": null,
      "outputs": []
    },
    {
      "cell_type": "code",
      "source": [
        "fatorial_iterativo(3)"
      ],
      "metadata": {
        "colab": {
          "base_uri": "https://localhost:8080/"
        },
        "id": "wKuWo0Iz_xcG",
        "outputId": "07bfd3b3-5f1c-4f1e-db7d-85de4471d5f8"
      },
      "execution_count": null,
      "outputs": [
        {
          "output_type": "execute_result",
          "data": {
            "text/plain": [
              "6"
            ]
          },
          "metadata": {},
          "execution_count": 2
        }
      ]
    },
    {
      "cell_type": "markdown",
      "source": [
        "- A -> Ler(n)\n",
        "- B -> resultado = 1\n",
        "- C -> resultado = resultado * n\n",
        "- D -> n = n - 1\n",
        "- E -> Escrever(resultado)\n",
        "- F -> Escrever(“Erro: número negativo”)\n",
        "\n",
        "R1: Faça A vá_para R2;\n",
        "\n",
        "\n",
        "R2: Se (n >= 0) então vá_para R3 senão vá_para R7;\n",
        "\n",
        "\n",
        "R3: Faça B vá_para R4;\n",
        "\n",
        "\n",
        "R4: Se (n > 1) então vá_para R5 senão vá_para Rx;\n",
        "\n",
        "\n",
        "R5: Faça C vá_para R6;\n",
        "\n",
        "\n",
        "R6: Faça D vá_para R4;\n",
        "\n",
        "R7: Faça F vá_para Rx;\n",
        "\n",
        "N = 3 (três iterações)"
      ],
      "metadata": {
        "id": "CC9zhpkIBSHx"
      }
    },
    {
      "cell_type": "markdown",
      "source": [
        "1. **(1,e)** -> Estado inicial\n",
        "2. **(2, A)** -> Executa A: Ler(n), n=3\n",
        "3. **(3, A)** -> Estado após executar A\n",
        "4. **(4, AB)** -> Executa B: resultado = 1\n",
        "5. **(5, AB)** -> Estado após executar B\n",
        "6. **(6, ABC)** -> Executa C: resultado = resultado * n, resultado=3\n",
        "7. **(4, ABCD)** -> Executa D: n = n - 1, n=2\n",
        "8. **(5, ABCD)** -> Estado após executar D\n",
        "9. **(6, ABCDC)** -> Executa C: resultado = resultado * n, resultado=6\n",
        "10. **(4, ABCDCD)** -> Executa D: n = n - 1, n=1\n",
        "11. **(5, ABCDCD)** -> Estado após executar D\n",
        "12. **(6, ABCDCDC)** -> Executa C: resultado = resultado * n, resultado=6\n",
        "13. **(4, ABCDCDCD)** -> Executa D: n = n - 1, n=0\n",
        "14. **(Rx, ABCDCDCD)** -> Como n <= 1, vai para Rx e termina a execução"
      ],
      "metadata": {
        "id": "BWSlHDYjK8zB"
      }
    },
    {
      "cell_type": "markdown",
      "source": [
        "#Recursivo"
      ],
      "metadata": {
        "id": "O1X8rmA0_G_u"
      }
    },
    {
      "cell_type": "markdown",
      "source": [
        "Este programa é considerado recursivo porque a função `fatorial` chama a si mesma para resolver o problema.\n",
        "\n",
        "Aqui está uma descrição mais detalhada de como a recursão funciona neste programa:\n",
        "\n",
        "1. A função `fatorial` é definida para aceitar um argumento `n`.\n",
        "2. Dentro da função, há uma verificação de condição: se `n` é igual a 0, a função retorna 1. Isso é conhecido como o **caso base** da recursão, que é a condição que faz a recursão parar.\n",
        "3. Se `n` não é igual a 0, a função retorna `n` multiplicado pelo resultado de chamar a função `fatorial` com o argumento `n - 1`. Esta é a chamada recursiva.\n",
        "4. Essa chamada recursiva significa que a função `fatorial` continua a chamar a si mesma, cada vez com um valor `n` menor, até que `n` seja igual a 0. Nesse ponto, a função retorna 1 e todas as chamadas recursivas anteriores podem ser resolvidas.\n",
        "5. O resultado final é o fatorial de `n`.\n",
        "\n",
        "Portanto, a natureza recursiva deste programa vem do fato de que a função `fatorial` chama a si mesma para calcular o fatorial de um número"
      ],
      "metadata": {
        "id": "49y9u-MNGw9K"
      }
    },
    {
      "cell_type": "code",
      "source": [
        "def fatorial_recursivo(n):\n",
        "    if n < 0:\n",
        "        return \"Erro: número negativo\"\n",
        "    elif n == 0 or n == 1:\n",
        "        return 1\n",
        "    else:\n",
        "        return n * fatorial_recursivo(n - 1)\n"
      ],
      "metadata": {
        "id": "zVzAUxtIXx-x"
      },
      "execution_count": null,
      "outputs": []
    },
    {
      "cell_type": "code",
      "source": [
        "fatorial_recursivo(3)"
      ],
      "metadata": {
        "colab": {
          "base_uri": "https://localhost:8080/"
        },
        "id": "dXf8M-VRFJFk",
        "outputId": "3ea3dbe2-13ff-4fac-d445-b9b80032e124"
      },
      "execution_count": null,
      "outputs": [
        {
          "output_type": "execute_result",
          "data": {
            "text/plain": [
              "6"
            ]
          },
          "metadata": {},
          "execution_count": 4
        }
      ]
    },
    {
      "cell_type": "markdown",
      "source": [
        "- A -> Ler(n)\n",
        "- B -> resultado = 1\n",
        "- C -> resultado = n * fatorial_recursivo(n - 1)\n",
        "- D -> n = n - 1\n",
        "- E -> Escrever(resultado)\n",
        "- F -> Escrever(“Erro: número negativo”)\n",
        "\n",
        "R1: Faça A vá_para R2;\n",
        "\n",
        "\n",
        "R2: Se (n >= 0) então vá_para R3 senão vá_para R7;\n",
        "\n",
        "\n",
        "R3: Se (n == 0 or n == 1) então vá_para Rx senão vá_para R4;\n",
        "\n",
        "\n",
        "R4: Faça C vá_para R5;\n",
        "\n",
        "\n",
        "R5: Faça D vá_para R3;\n",
        "\n",
        "\n",
        "R6: Faça E vá_para Rx;\n",
        "\n",
        "\n",
        "R7: Faça F vá_para Rx;\n",
        "\n",
        "N = 3 (três iterações)\n"
      ],
      "metadata": {
        "id": "-8Bb7EYTCFsv"
      }
    },
    {
      "cell_type": "markdown",
      "source": [
        "\n",
        "1. **(1,e)** -> Estado inicial\n",
        "2. **(2, A)** -> Executa A: Ler(n), n=3\n",
        "3. **(3, A)** -> Estado após executar A\n",
        "4. **(4, AB)** -> Estado após executar B\n",
        "5. **(5, AB)** -> Estado após executar B\n",
        "6. **(6, ABC)** -> Executa C: resultado = n * fatorial_recursivo(n - 1), resultado=3\n",
        "7. **(4, ABCD)** -> Executa D: n = n - 1, n=2\n",
        "8. **(5, ABCD)** -> Estado após executar D\n",
        "9. **(6, ABCDC)** -> Executa C: resultado = n * fatorial_recursivo(n - 1), resultado=6\n",
        "10. **(4, ABCDCD)** -> Executa D: n = n - 1, n=1\n",
        "11. **(5, ABCDCD)** -> Estado após executar D\n",
        "12. **(6, ABCDCDC)** -> Executa C: resultado = n * fatorial_recursivo(n - 1), resultado=6\n",
        "13. **(4, ABCDCDCD)** -> Executa D: n = n - 1, n=0\n",
        "14. **(Rx, ABCDCDCD)** -> Como n < 1, vai para Rx e termina a execução\n",
        "\n"
      ],
      "metadata": {
        "id": "IjvOAn5jLQK2"
      }
    },
    {
      "cell_type": "markdown",
      "source": [
        "#Equivalência"
      ],
      "metadata": {
        "id": "_YVPn7ZYHivs"
      }
    },
    {
      "cell_type": "markdown",
      "source": [
        "Com base nas cadeias geradas pela Máquina de Traços (MT), podemos observar os seguintes exemplos:\n",
        "\n",
        "Exemplo de Equivalência:\n",
        "\n",
        "As cadeias geradas pelos métodos iterativo e recursivo s**ão equivalentes**. Ambos produzem a mesma sequência final **ABCDCDCD.**\n",
        "\n",
        "Exemplo de Não-Equivalência:\n",
        "\n",
        "A cadeia gerada pelo método monolítico é diferente das cadeias geradas pelos métodos iterativo e recursivo. A sequência final produzida pelo método monolítico é **ABCDEFDEFDEG**, enquanto as sequências finais produzidas pelos métodos iterativo e recursivo são **ABCDCDCD**. Portanto, essas cadeias **não são equivalentes.**"
      ],
      "metadata": {
        "id": "wsSe4wyCHYls"
      }
    }
  ]
}